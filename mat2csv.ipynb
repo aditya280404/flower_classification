{
 "cells": [
  {
   "cell_type": "markdown",
   "metadata": {},
   "source": [
    "# Coverting files format \".mat\" to \".csv\""
   ]
  },
  {
   "cell_type": "markdown",
   "metadata": {},
   "source": [
    "Step 1: Importing Necessary Libraries"
   ]
  },
  {
   "cell_type": "code",
   "execution_count": 10,
   "metadata": {},
   "outputs": [
    {
     "name": "stdout",
     "output_type": "stream",
     "text": [
      "{'__header__': b'MATLAB 5.0 MAT-file, Platform: GLNX86, Created on: Thu Feb 19 17:38:58 2009', '__version__': '1.0', '__globals__': [], 'trnid': array([[6765, 6755, 6768, ..., 8026, 8036, 8041]], dtype=uint16), 'valid': array([[6773, 6767, 6739, ..., 8028, 8008, 8030]], dtype=uint16), 'tstid': array([[6734, 6735, 6737, ..., 8044, 8045, 8047]], dtype=uint16)}\n"
     ]
    }
   ],
   "source": [
    "import scipy.io\n",
    "import pandas as pd\n",
    "import numpy as np"
   ]
  },
  {
   "cell_type": "markdown",
   "metadata": {},
   "source": [
    "Step 2: Load the `.mat` File"
   ]
  },
  {
   "cell_type": "code",
   "execution_count": null,
   "metadata": {},
   "outputs": [],
   "source": [
    "\n",
    "mat = scipy.io.loadmat(r'C:\\Users\\Aditya\\OneDrive\\Desktop\\Flower\\data\\setid.mat')\n",
    "\n",
    "print(mat)\n",
    "\n"
   ]
  },
  {
   "cell_type": "code",
   "execution_count": 11,
   "metadata": {},
   "outputs": [
    {
     "name": "stdout",
     "output_type": "stream",
     "text": [
      "dict_keys(['__header__', '__version__', '__globals__', 'trnid', 'valid', 'tstid'])\n"
     ]
    }
   ],
   "source": [
    "print(mat.keys())"
   ]
  },
  {
   "cell_type": "markdown",
   "metadata": {},
   "source": [
    "Step 3: Save the data in a .csv file."
   ]
  },
  {
   "cell_type": "code",
   "execution_count": 12,
   "metadata": {},
   "outputs": [
    {
     "name": "stdout",
     "output_type": "stream",
     "text": [
      "[[6765 6755 6768 ... 8026 8036 8041]]\n",
      "      trnid\n",
      "0      6765\n",
      "1      6755\n",
      "2      6768\n",
      "3      6736\n",
      "4      6744\n",
      "...     ...\n",
      "1015   8004\n",
      "1016   8013\n",
      "1017   8026\n",
      "1018   8036\n",
      "1019   8041\n",
      "\n",
      "[1020 rows x 1 columns]\n",
      "Saved trnid.csv\n",
      "[[6773 6767 6739 ... 8028 8008 8030]]\n",
      "      valid\n",
      "0      6773\n",
      "1      6767\n",
      "2      6739\n",
      "3      6749\n",
      "4      6763\n",
      "...     ...\n",
      "1015   8046\n",
      "1016   8009\n",
      "1017   8028\n",
      "1018   8008\n",
      "1019   8030\n",
      "\n",
      "[1020 rows x 1 columns]\n",
      "Saved valid.csv\n",
      "[[6734 6735 6737 ... 8044 8045 8047]]\n",
      "      tstid\n",
      "0      6734\n",
      "1      6735\n",
      "2      6737\n",
      "3      6742\n",
      "4      6743\n",
      "...     ...\n",
      "6144   8040\n",
      "6145   8043\n",
      "6146   8044\n",
      "6147   8045\n",
      "6148   8047\n",
      "\n",
      "[6149 rows x 1 columns]\n",
      "Saved tstid.csv\n"
     ]
    }
   ],
   "source": [
    "for key in mat.keys():\n",
    "\n",
    "    if not key.startswith('__'):\n",
    "        print(mat[key])\n",
    "        df = pd.DataFrame()\n",
    "        df[key]=np.array(mat[key]).flatten()\n",
    "        print(df)\n",
    "        df.to_csv(f'C:\\\\Users\\\\Aditya\\\\OneDrive\\\\Desktop\\\\Flower\\\\data\\\\{key}.csv', index=False,header=True)\n",
    "        print(f\"Saved {key}.csv\")"
   ]
  }
 ],
 "metadata": {
  "kernelspec": {
   "display_name": "flower_env",
   "language": "python",
   "name": "python3"
  },
  "language_info": {
   "codemirror_mode": {
    "name": "ipython",
    "version": 3
   },
   "file_extension": ".py",
   "mimetype": "text/x-python",
   "name": "python",
   "nbconvert_exporter": "python",
   "pygments_lexer": "ipython3",
   "version": "3.9.13"
  }
 },
 "nbformat": 4,
 "nbformat_minor": 2
}
